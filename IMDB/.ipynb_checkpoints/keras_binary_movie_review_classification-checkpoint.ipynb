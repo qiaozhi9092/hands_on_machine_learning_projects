{
 "cells": [
  {
   "cell_type": "code",
   "execution_count": 74,
   "metadata": {},
   "outputs": [],
   "source": [
    "import sys\n",
    "\n",
    "import tensorflow.keras\n",
    "import pandas as pd\n",
    "import sklearn as sk\n",
    "import tensorflow as tf\n",
    "import numpy as np\n",
    "import matplotlib.pyplot as plt\n",
    "\n",
    "from keras import models\n",
    "from keras import layers"
   ]
  },
  {
   "cell_type": "code",
   "execution_count": 2,
   "metadata": {},
   "outputs": [
    {
     "name": "stdout",
     "output_type": "stream",
     "text": [
      "Tensor Flow Version: 1.13.1\n",
      "Keras Version: 2.2.4-tf\n",
      "\n",
      "Python 3.6.8 |Anaconda, Inc.| (default, Dec 29 2018, 19:04:46) \n",
      "[GCC 4.2.1 Compatible Clang 4.0.1 (tags/RELEASE_401/final)]\n",
      "Pandas 0.24.2\n",
      "Scikit-Learn 0.21.2\n"
     ]
    }
   ],
   "source": [
    "print(f\"Tensor Flow Version: {tf.__version__}\")\n",
    "print(f\"Keras Version: {tensorflow.keras.__version__}\")\n",
    "print()\n",
    "print(f\"Python {sys.version}\")\n",
    "print(f\"Pandas {pd.__version__}\")\n",
    "print(f\"Scikit-Learn {sk.__version__}\")"
   ]
  },
  {
   "cell_type": "code",
   "execution_count": 4,
   "metadata": {
    "scrolled": true
   },
   "outputs": [],
   "source": [
    "from keras.datasets import imdb\n",
    "(train_data, train_labels), (test_data, test_labels) = imdb.load_data(num_words=10000)"
   ]
  },
  {
   "cell_type": "code",
   "execution_count": 39,
   "metadata": {},
   "outputs": [
    {
     "data": {
      "text/plain": [
       "[1, 14, 22, 16, 43]"
      ]
     },
     "execution_count": 39,
     "metadata": {},
     "output_type": "execute_result"
    }
   ],
   "source": [
    "train_data[0][0:5]"
   ]
  },
  {
   "cell_type": "code",
   "execution_count": 15,
   "metadata": {},
   "outputs": [
    {
     "data": {
      "text/plain": [
       "9999"
      ]
     },
     "execution_count": 15,
     "metadata": {},
     "output_type": "execute_result"
    }
   ],
   "source": [
    "#the max encoding number of a word is less than 10000\n",
    "max(max(sequency) for sequency in train_data)"
   ]
  },
  {
   "cell_type": "code",
   "execution_count": 36,
   "metadata": {},
   "outputs": [],
   "source": [
    "#reverse the word encoding\n",
    "word_index = imdb.get_word_index()\n",
    "reverse_word_index = dict(\n",
    "    [(value,key) for (key,value) in word_index.items()])\n",
    "decoded_review = ' '.join(\n",
    "[reverse_word_index.get(i-3, '?') for i in train_data[0]])"
   ]
  },
  {
   "cell_type": "code",
   "execution_count": 37,
   "metadata": {},
   "outputs": [
    {
     "data": {
      "text/plain": [
       "'you'"
      ]
     },
     "execution_count": 37,
     "metadata": {},
     "output_type": "execute_result"
    }
   ],
   "source": [
    "reverse_word_index.get(train_data[0][2])"
   ]
  },
  {
   "cell_type": "code",
   "execution_count": 38,
   "metadata": {},
   "outputs": [
    {
     "data": {
      "text/plain": [
       "\"? this film was just brilliant casting location scenery story direction everyone's really suited the part they played and you could just imagine being there robert ? is an amazing actor and now the same being director ? father came from the same scottish island as myself so i loved the fact there was a real connection with this film the witty remarks throughout the film were great it was just brilliant so much that i bought the film as soon as it was released for ? and would recommend it to everyone to watch and the fly fishing was amazing really cried at the end it was so sad and you know what they say if you cry at a film it must have been good and this definitely was also ? to the two little boy's that played the ? of norman and paul they were just brilliant children are often left out of the ? list i think because the stars that play them all grown up are such a big profile for the whole film but these children are amazing and should be praised for what they have done don't you think the whole story was so lovely because it was true and was someone's life after all that was shared with us all\""
      ]
     },
     "execution_count": 38,
     "metadata": {},
     "output_type": "execute_result"
    }
   ],
   "source": [
    "decoded_review"
   ]
  },
  {
   "cell_type": "code",
   "execution_count": 42,
   "metadata": {},
   "outputs": [],
   "source": [
    "#one hot encode manually\n",
    "def vectorize_sequences(sequences, dimension=10000):\n",
    "    results = np.zeros((len(sequences), dimension))\n",
    "    for i, sequence in enumerate(sequences):\n",
    "        results[i, sequence] = 1\n",
    "    return results"
   ]
  },
  {
   "cell_type": "code",
   "execution_count": 43,
   "metadata": {},
   "outputs": [],
   "source": [
    "#vectorize the training and test data\n",
    "x_train = vectorize_sequences(train_data)\n",
    "x_test = vectorize_sequences(test_data)"
   ]
  },
  {
   "cell_type": "code",
   "execution_count": 58,
   "metadata": {},
   "outputs": [
    {
     "data": {
      "text/plain": [
       "array([0., 1., 1., ..., 0., 0., 0.])"
      ]
     },
     "execution_count": 58,
     "metadata": {},
     "output_type": "execute_result"
    }
   ],
   "source": [
    "x_train[0]"
   ]
  },
  {
   "cell_type": "code",
   "execution_count": 55,
   "metadata": {},
   "outputs": [],
   "source": [
    "#vectorize the labels\n",
    "y_train = np.asarray(train_labels).astype('float32')\n",
    "y_test = np.asarray(test_labels).astype('float32')"
   ]
  },
  {
   "cell_type": "code",
   "execution_count": 57,
   "metadata": {},
   "outputs": [
    {
     "data": {
      "text/plain": [
       "array([1., 0., 0., 1., 0., 0., 1., 0., 1., 0.], dtype=float32)"
      ]
     },
     "execution_count": 57,
     "metadata": {},
     "output_type": "execute_result"
    }
   ],
   "source": [
    "y_train[0:10]"
   ]
  },
  {
   "cell_type": "code",
   "execution_count": 83,
   "metadata": {},
   "outputs": [],
   "source": [
    "#model construction \n",
    "model = models.Sequential()\n",
    "model.add(layers.Dense(16, activation='relu', input_shape=(10000,)))\n",
    "model.add(layers.Dense(16, activation='relu'))\n",
    "model.add(layers.Dense(1, activation='sigmoid'))"
   ]
  },
  {
   "cell_type": "code",
   "execution_count": 84,
   "metadata": {},
   "outputs": [],
   "source": [
    "#use binary_crossentropy as loss function is often the best for the probability output\n",
    "model.compile(optimizer='rmsprop',\n",
    "             loss='binary_crossentropy',\n",
    "             metrics=['accuracy'])"
   ]
  },
  {
   "cell_type": "code",
   "execution_count": 85,
   "metadata": {},
   "outputs": [],
   "source": [
    "#setting up the validation set\n",
    "x_val = x_train[:10000]\n",
    "partial_x_train = x_train[10000:]\n",
    "y_val = y_train[:10000]\n",
    "partial_y_train = y_train[10000:]"
   ]
  },
  {
   "cell_type": "code",
   "execution_count": 86,
   "metadata": {},
   "outputs": [
    {
     "name": "stdout",
     "output_type": "stream",
     "text": [
      "Train on 15000 samples, validate on 10000 samples\n",
      "Epoch 1/20\n",
      "15000/15000 [==============================] - 2s 114us/step - loss: 0.5937 - acc: 0.7032 - val_loss: 0.5054 - val_acc: 0.8146\n",
      "Epoch 2/20\n",
      "15000/15000 [==============================] - 1s 98us/step - loss: 0.4139 - acc: 0.8823 - val_loss: 0.3789 - val_acc: 0.8813\n",
      "Epoch 3/20\n",
      "15000/15000 [==============================] - 2s 100us/step - loss: 0.3002 - acc: 0.9171 - val_loss: 0.3225 - val_acc: 0.8826\n",
      "Epoch 4/20\n",
      "15000/15000 [==============================] - 1s 98us/step - loss: 0.2286 - acc: 0.9340 - val_loss: 0.3201 - val_acc: 0.8727\n",
      "Epoch 5/20\n",
      "15000/15000 [==============================] - 1s 98us/step - loss: 0.1817 - acc: 0.9469 - val_loss: 0.2953 - val_acc: 0.8827\n",
      "Epoch 6/20\n",
      "15000/15000 [==============================] - 2s 102us/step - loss: 0.1489 - acc: 0.9559 - val_loss: 0.2940 - val_acc: 0.8843\n",
      "Epoch 7/20\n",
      "15000/15000 [==============================] - 1s 98us/step - loss: 0.1262 - acc: 0.9639 - val_loss: 0.2893 - val_acc: 0.8865\n",
      "Epoch 8/20\n",
      "15000/15000 [==============================] - 1s 96us/step - loss: 0.1024 - acc: 0.9726 - val_loss: 0.3204 - val_acc: 0.8783\n",
      "Epoch 9/20\n",
      "15000/15000 [==============================] - 1s 95us/step - loss: 0.0886 - acc: 0.9755 - val_loss: 0.3184 - val_acc: 0.8825\n",
      "Epoch 10/20\n",
      "15000/15000 [==============================] - 1s 96us/step - loss: 0.0709 - acc: 0.9828 - val_loss: 0.3507 - val_acc: 0.8758\n",
      "Epoch 11/20\n",
      "15000/15000 [==============================] - 2s 101us/step - loss: 0.0596 - acc: 0.9865 - val_loss: 0.3621 - val_acc: 0.8787\n",
      "Epoch 12/20\n",
      "15000/15000 [==============================] - 1s 97us/step - loss: 0.0488 - acc: 0.9894 - val_loss: 0.3867 - val_acc: 0.8766\n",
      "Epoch 13/20\n",
      "15000/15000 [==============================] - 2s 104us/step - loss: 0.0391 - acc: 0.9926 - val_loss: 0.4226 - val_acc: 0.8740\n",
      "Epoch 14/20\n",
      "15000/15000 [==============================] - 1s 99us/step - loss: 0.0319 - acc: 0.9943 - val_loss: 0.4585 - val_acc: 0.8695\n",
      "Epoch 15/20\n",
      "15000/15000 [==============================] - 1s 98us/step - loss: 0.0263 - acc: 0.9955 - val_loss: 0.4830 - val_acc: 0.8709\n",
      "Epoch 16/20\n",
      "15000/15000 [==============================] - 1s 97us/step - loss: 0.0195 - acc: 0.9979 - val_loss: 0.5088 - val_acc: 0.8686\n",
      "Epoch 17/20\n",
      "15000/15000 [==============================] - 1s 97us/step - loss: 0.0160 - acc: 0.9981 - val_loss: 0.6597 - val_acc: 0.8538\n",
      "Epoch 18/20\n",
      "15000/15000 [==============================] - 1s 98us/step - loss: 0.0120 - acc: 0.9986 - val_loss: 0.5582 - val_acc: 0.8702\n",
      "Epoch 19/20\n",
      "15000/15000 [==============================] - 2s 103us/step - loss: 0.0097 - acc: 0.9990 - val_loss: 0.5923 - val_acc: 0.8688\n",
      "Epoch 20/20\n",
      "15000/15000 [==============================] - 2s 100us/step - loss: 0.0079 - acc: 0.9991 - val_loss: 0.6297 - val_acc: 0.8662\n"
     ]
    }
   ],
   "source": [
    "#training step\n",
    "history = model.fit(partial_x_train,\n",
    "                    partial_y_train,\n",
    "                    epochs=20,\n",
    "                    batch_size=512,\n",
    "                    validation_data=(x_val,y_val))"
   ]
  },
  {
   "cell_type": "code",
   "execution_count": 87,
   "metadata": {},
   "outputs": [
    {
     "data": {
      "text/plain": [
       "dict_keys(['val_loss', 'val_acc', 'loss', 'acc'])"
      ]
     },
     "execution_count": 87,
     "metadata": {},
     "output_type": "execute_result"
    }
   ],
   "source": [
    "#training history\n",
    "history_dict = history.history\n",
    "history_dict.keys()"
   ]
  },
  {
   "cell_type": "code",
   "execution_count": 88,
   "metadata": {},
   "outputs": [
    {
     "data": {
      "image/png": "[encoded data removed]",
      "text/plain": [
       "<Figure size 432x288 with 1 Axes>"
      ]
     },
     "metadata": {
      "needs_background": "light"
     },
     "output_type": "display_data"
    }
   ],
   "source": [
    "#training and validation loss plot\n",
    "loss_values = history_dict['loss']\n",
    "val_loss_values = history_dict['val_loss']\n",
    "\n",
    "epochs = range(1,len(history_dict['acc'])+1)\n",
    "\n",
    "plt.plot(epochs,loss_values, 'bo', label='Training loss')\n",
    "plt.plot(epochs, val_loss_values, 'b', label='Validation loss')\n",
    "plt.title('Training and validation loss')\n",
    "plt.xlabel('Epochs')\n",
    "plt.ylabel('Loss')\n",
    "plt.legend()\n",
    "\n",
    "plt.show()"
   ]
  },
  {
   "cell_type": "code",
   "execution_count": 82,
   "metadata": {},
   "outputs": [],
   "source": [
    "# del history\n",
    "# del model"
   ]
  },
  {
   "cell_type": "code",
   "execution_count": 91,
   "metadata": {},
   "outputs": [
    {
     "data": {
      "image/png": "[encoded data removed]",
      "text/plain": [
       "<Figure size 432x288 with 1 Axes>"
      ]
     },
     "metadata": {
      "needs_background": "light"
     },
     "output_type": "display_data"
    }
   ],
   "source": [
    "#training and validation accuracy\n",
    "plt.clf()\n",
    "acc_values = history_dict['acc']\n",
    "val_acc_values = history_dict['val_acc']\n",
    "\n",
    "plt.plot(epochs,acc_values, 'bo', label='Training acc')\n",
    "plt.plot(epochs, val_acc_values, 'b', label='Validation acc')\n",
    "plt.title('Training and validation accuracy')\n",
    "plt.xlabel('Epochs')\n",
    "plt.ylabel('Accuracy')\n",
    "plt.legend()\n",
    "\n",
    "plt.show()"
   ]
  },
  {
   "cell_type": "code",
   "execution_count": 92,
   "metadata": {},
   "outputs": [
    {
     "name": "stdout",
     "output_type": "stream",
     "text": [
      "Epoch 1/4\n",
      "25000/25000 [==============================] - 2s 63us/step - loss: 0.5328 - acc: 0.7498\n",
      "Epoch 2/4\n",
      "25000/25000 [==============================] - 1s 52us/step - loss: 0.3128 - acc: 0.9056\n",
      "Epoch 3/4\n",
      "25000/25000 [==============================] - 1s 52us/step - loss: 0.2211 - acc: 0.9287\n",
      "Epoch 4/4\n",
      "25000/25000 [==============================] - 1s 52us/step - loss: 0.1805 - acc: 0.9387\n",
      "25000/25000 [==============================] - 2s 67us/step\n"
     ]
    }
   ],
   "source": [
    "#retrain a model to test on the test set\n",
    "model = models.Sequential()\n",
    "model.add(layers.Dense(16, activation='relu', input_shape=(10000,)))\n",
    "model.add(layers.Dense(16, activation='relu'))\n",
    "model.add(layers.Dense(1, activation='sigmoid'))\n",
    "\n",
    "model.compile(optimizer='rmsprop',\n",
    "             loss='binary_crossentropy',\n",
    "             metrics=['accuracy'])\n",
    "\n",
    "model.fit(x_train, y_train, epochs=4, batch_size=512)\n",
    "results = model.evaluate(x_test, y_test)"
   ]
  },
  {
   "cell_type": "code",
   "execution_count": 93,
   "metadata": {},
   "outputs": [
    {
     "data": {
      "text/plain": [
       "[0.28961157488822936, 0.8846]"
      ]
     },
     "execution_count": 93,
     "metadata": {},
     "output_type": "execute_result"
    }
   ],
   "source": [
    "results"
   ]
  },
  {
   "cell_type": "code",
   "execution_count": 94,
   "metadata": {},
   "outputs": [
    {
     "data": {
      "text/plain": [
       "array([[0.16025576],\n",
       "       [0.9916344 ],\n",
       "       [0.7131628 ],\n",
       "       ...,\n",
       "       [0.1501694 ],\n",
       "       [0.08396924],\n",
       "       [0.49808452]], dtype=float32)"
      ]
     },
     "execution_count": 94,
     "metadata": {},
     "output_type": "execute_result"
    }
   ],
   "source": [
    "model.predict(x_test)"
   ]
  },
  {
   "cell_type": "markdown",
   "metadata": {},
   "source": [
    "- for future possible improvements, we can try the following:\n",
    "    1. more hidden layers\n",
    "    2. more hidden units\n",
    "    3. mse loss function\n",
    "    4. tanh activation function"
   ]
  },
  {
   "cell_type": "code",
   "execution_count": null,
   "metadata": {},
   "outputs": [],
   "source": []
  }
 ],
 "metadata": {
  "kernelspec": {
   "display_name": "Python 3.6 (tensorflow)",
   "language": "python",
   "name": "tensorflow"
  },
  "language_info": {
   "codemirror_mode": {
    "name": "ipython",
    "version": 3
   },
   "file_extension": ".py",
   "mimetype": "text/x-python",
   "name": "python",
   "nbconvert_exporter": "python",
   "pygments_lexer": "ipython3",
   "version": "3.6.8"
  }
 },
 "nbformat": 4,
 "nbformat_minor": 2
}
